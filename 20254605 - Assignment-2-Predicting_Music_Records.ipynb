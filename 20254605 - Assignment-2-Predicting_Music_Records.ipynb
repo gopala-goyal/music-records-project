{
 "cells": [
  {
   "cell_type": "markdown",
   "id": "fb88f576",
   "metadata": {},
   "source": [
    "# MMA 867 - Individual Assignment - 2\n",
    "\n",
    "## Predicting Music Records Popularity\n",
    "\n",
    "## By Gopala Goyal - 20254605\n",
    "\n",
    "> As a part of the assignment, we would be working on the music dataset and predicting if a song would reach the Top 10 list of music in the world\n",
    "\n",
    "> We are provided with a dataset that contains about 38 independent variables and 1 categorical target variable. As the target variable is categorical, we would be performing logistic regression and calculating the probability that the song would reach the Top 10 list or not\n",
    "\n",
    "> There is no training set provided, hence we would be splitting the training data into training and testing data. (Optional)The training data would be split into training and validation data to ensure that the model that has been created can be validated and re-iterated if required.\n",
    "\n",
    "> The high level process for the analysis would be:\n",
    "> 1. Collecting, gathering and importing data\n",
    "> 2. Performing Exploratory Data Analysis (EDA) where we see what the data is and how it is structured, and check for any discrepancies in the data\n",
    "> 3. Data Wrangling Process - Clean, structure and prepare data for predictive analysis\n",
    "> 4. Developing logistic regression model to get the probabilities for test data\n",
    "> 5. Reporting outcomes"
   ]
  },
  {
   "cell_type": "code",
   "execution_count": null,
   "id": "48abb0b5",
   "metadata": {},
   "outputs": [],
   "source": []
  }
 ],
 "metadata": {
  "kernelspec": {
   "display_name": "Python 3",
   "language": "python",
   "name": "python3"
  },
  "language_info": {
   "codemirror_mode": {
    "name": "ipython",
    "version": 3
   },
   "file_extension": ".py",
   "mimetype": "text/x-python",
   "name": "python",
   "nbconvert_exporter": "python",
   "pygments_lexer": "ipython3",
   "version": "3.7.7"
  }
 },
 "nbformat": 4,
 "nbformat_minor": 5
}
